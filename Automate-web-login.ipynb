{
 "cells": [
  {
   "cell_type": "code",
   "execution_count": 6,
   "metadata": {},
   "outputs": [
    {
     "name": "stdout",
     "output_type": "stream",
     "text": [
      "installing webdriver\n"
     ]
    },
    {
     "name": "stderr",
     "output_type": "stream",
     "text": [
      "[WDM] - Current google-chrome version is 86.0.4240\n",
      "[WDM] - Get LATEST driver version for 86.0.4240\n"
     ]
    },
    {
     "name": "stdout",
     "output_type": "stream",
     "text": [
      "Requirement already satisfied: webdriver-manager in d:\\all-software-installers\\anaconda\\lib\\site-packages (3.2.2)\n",
      "Requirement already satisfied: configparser in d:\\all-software-installers\\anaconda\\lib\\site-packages (from webdriver-manager) (5.0.1)\n",
      "Requirement already satisfied: crayons in d:\\all-software-installers\\anaconda\\lib\\site-packages (from webdriver-manager) (0.4.0)\n",
      "Requirement already satisfied: requests in d:\\all-software-installers\\anaconda\\lib\\site-packages (from webdriver-manager) (2.24.0)\n",
      "Requirement already satisfied: colorama in d:\\all-software-installers\\anaconda\\lib\\site-packages (from crayons->webdriver-manager) (0.4.3)\n",
      "Requirement already satisfied: chardet<4,>=3.0.2 in d:\\all-software-installers\\anaconda\\lib\\site-packages (from requests->webdriver-manager) (3.0.4)\n",
      "Requirement already satisfied: certifi>=2017.4.17 in d:\\all-software-installers\\anaconda\\lib\\site-packages (from requests->webdriver-manager) (2020.6.20)\n",
      "Requirement already satisfied: urllib3!=1.25.0,!=1.25.1,<1.26,>=1.21.1 in d:\\all-software-installers\\anaconda\\lib\\site-packages (from requests->webdriver-manager) (1.25.9)\n",
      "Requirement already satisfied: idna<3,>=2.5 in d:\\all-software-installers\\anaconda\\lib\\site-packages (from requests->webdriver-manager) (2.10)\n",
      " \n"
     ]
    },
    {
     "name": "stderr",
     "output_type": "stream",
     "text": [
      "[WDM] - Driver [C:\\Users\\kaushik.mesala\\.wdm\\drivers\\chromedriver\\win32\\86.0.4240.22\\chromedriver.exe] found in cache\n"
     ]
    }
   ],
   "source": [
    "import pyautogui\n",
    "from selenium import webdriver\n",
    "\n",
    "URL = 'http://127.0.0.1:9989/adminConsole/kdw#_frmLogin'\n",
    "\n",
    "USERNAME = 'admin1'\n",
    "PASSWORD = 'Konyadmin@1'\n",
    "\n",
    "try:\n",
    "    driver= webdriver.Chrome()\n",
    "except:\n",
    "    print('installing webdriver')\n",
    "    !pip install webdriver-manager\n",
    "    from webdriver_manager.chrome import ChromeDriverManager\n",
    "    driver = webdriver.Chrome(ChromeDriverManager().install())\n",
    "driver.get(URL)\n",
    "\n",
    "# searchButton = driver.find_element_by_xpath('//*[@id=\"frmLogin_btnLogin\"]')\n",
    "# searchButton.click()\n"
   ]
  },
  {
   "cell_type": "code",
   "execution_count": 8,
   "metadata": {},
   "outputs": [],
   "source": [
    "\n",
    "searchbox = driver.find_element_by_xpath('//*[@id=\"frmLogin_txtUserName\"]')\n",
    "searchbox.send_keys(USERNAME)\n",
    "\n",
    "searchbox = driver.find_element_by_xpath('//*[@id=\"frmLogin_txtPassword\"]')\n",
    "searchbox.send_keys(PASSWORD)\n",
    "\n",
    "searchButton = driver.find_element_by_xpath('//*[@id=\"frmLogin_btnLogin\"]')\n",
    "searchButton.click()\n"
   ]
  },
  {
   "cell_type": "code",
   "execution_count": 5,
   "metadata": {},
   "outputs": [],
   "source": [
    "searchButton = driver.find_element_by_xpath('//*[@id=\"flxLeftMenuSectionItem_lblMenuItem\"]')\n",
    "searchButton.click()\n"
   ]
  }
 ],
 "metadata": {
  "kernelspec": {
   "display_name": "Python 3",
   "language": "python",
   "name": "python3"
  },
  "language_info": {
   "codemirror_mode": {
    "name": "ipython",
    "version": 3
   },
   "file_extension": ".py",
   "mimetype": "text/x-python",
   "name": "python",
   "nbconvert_exporter": "python",
   "pygments_lexer": "ipython3",
   "version": "3.8.3"
  }
 },
 "nbformat": 4,
 "nbformat_minor": 4
}
